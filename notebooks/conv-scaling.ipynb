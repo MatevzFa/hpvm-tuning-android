{
    "cells": [
        {
            "cell_type": "code",
            "execution_count": 159,
            "source": [
                "import matplotlib.pyplot as plt\n",
                "import numpy as np\n",
                "import pandas as pd\n",
                "pd.set_option(\"display.max_columns\", None)\n",
                "\n",
                "df = pd.read_csv(\"bench_convs.csv\").dropna(axis=1)\n",
                "\n",
                "mode_mapping = {\n",
                "    0: \"Row perforation\",\n",
                "    1: \"Column perforation\",\n",
                "    2: \"Filter sampling\",\n",
                "}\n",
                "\n",
                "df[\"approx_info.mode_name\"] = df[\"approx_info.mode\"].map(lambda x: mode_mapping[x])\n",
                "\n",
                "total_is = \"gemm\"\n",
                "\n",
                "if total_is == \"im2col\":\n",
                "    df[\"approx.total\"] = df[\"approx.im2col\"]\n",
                "    df[\"normal.total\"] = df[\"normal.im2col\"]\n",
                "if total_is == \"gemm\":\n",
                "    df[\"approx.total\"] = df[\"approx.gemm\"]\n",
                "    df[\"normal.total\"] = df[\"normal.gemm\"]\n",
                "if total_is == \"full\":\n",
                "    df[\"approx.total\"] = df[\"approx.gemm\"] + df[\"approx.im2col\"] + df[\"approx.interpolate\"] + df[\"approx.kn2row\"]\n",
                "    df[\"normal.total\"] = df[\"normal.gemm\"] + df[\"normal.im2col\"]\n",
                "\n",
                "df[\"speedup\"] = df[\"normal.total\"] / df[\"approx.total\"]\n",
                "df[\"chw\"] = df[\"info.c\"] * df[\"info.h\"] * df[\"info.w\"]\n",
                "\n",
                "df[\"gemm.K\"] = df[\"info.kh\"]*df[\"info.kw\"]*df[\"info.kn\"] * \\\n",
                "    (1 - (df.apply(lambda r: 1/r[\"approx_info.perf_stride\"]\n",
                "     if r[\"approx_info.mode\"] == 2 else 0, axis=1)))\n",
                "\n",
                "df[\"gemm.N\"] = df[\"info.w\"]*df[\"info.h\"] * \\\n",
                "    (1 - (df.apply(lambda r: 1/r[\"approx_info.perf_stride\"]\n",
                "     if r[\"approx_info.mode\"] != 2 else 0, axis=1)))\n",
                "\n",
                "df[\"gemm.M\"] = df[\"info.kn\"]\n",
                "\n",
                "\n",
                "\n",
                "\n",
                "def stackbars(ax, bars):\n",
                "    left = np.zeros((len(bars[0][0]),))\n",
                "    width = 0.8\n",
                "    colors=['tab:blue', 'tab:orange', 'tab:red', 'tab:green']\n",
                "    for i, (data, label) in enumerate(bars):\n",
                "        data = np.array(data)\n",
                "        ax.barh(tlabels, data, width, left=left, label=label, fc=colors[i])\n",
                "        left += np.array(data)\n",
                "\n",
                "\n",
                "fig, axs = plt.subplots(ncols=3, nrows=1, figsize=(7, 1.7), sharey=True)\n",
                "\n",
                "for ax, mode in zip(axs, [0,1,2]):\n",
                "    tlabels = []\n",
                "    gemms = []\n",
                "    interpolates = []\n",
                "    im2cols = []\n",
                "    kn2rows = []\n",
                "    for name, grp in df[(df[\"approx_info.mode\"] == mode)].groupby(\"chw\"):\n",
                "\n",
                "        t_gemm = grp[\"approx.gemm\"].mean()\n",
                "        t_interpolate = grp[\"approx.interpolate\"].mean()\n",
                "        t_im2col = grp[\"approx.im2col\"].mean()\n",
                "        t_kn2row = grp[\"approx.kn2row\"].mean()\n",
                "\n",
                "        t_total = t_im2col + t_gemm + t_interpolate + t_kn2row\n",
                "\n",
                "        tlabels.append(str(name))\n",
                "        gemms.append(t_gemm/t_total)\n",
                "        interpolates.append(t_interpolate/t_total)\n",
                "        im2cols.append(t_im2col/t_total)\n",
                "        kn2rows.append(t_kn2row/t_total)\n",
                "\n",
                "\n",
                "\n",
                "\n",
                "\n",
                "    stackbars(ax, [\n",
                "        (gemms, \"GEMM\"),\n",
                "        (interpolates, \"interpolate\"),\n",
                "        (im2cols, \"im2col\"),\n",
                "        (kn2rows, \"kn2row\"),\n",
                "    ])\n",
                "    ax.set_xlim((0, 1))\n",
                "    if mode == 0:\n",
                "        ax.set_ylabel(\"Image size\")\n",
                "    ax.set_title(mode_mapping[mode])\n",
                "    if mode == 1:\n",
                "        ax.set_xlabel(\"% of time spent in operation\")\n",
                "        ax.legend(loc=\"upper center\", bbox_to_anchor=(0.5, -0.3),ncol=4)\n",
                "\n",
                "plt.savefig(\"conv-scaling.pdf\", bbox_inches='tight')"
            ],
            "outputs": [
                {
                    "output_type": "display_data",
                    "data": {
                        "image/png": "[encoded data removed]",
                        "text/plain": [
                            "<Figure size 504x122.4 with 3 Axes>"
                        ]
                    },
                    "metadata": {
                        "needs_background": "light"
                    }
                }
            ],
            "metadata": {}
        },
        {
            "cell_type": "code",
            "execution_count": null,
            "source": [],
            "outputs": [],
            "metadata": {}
        },
        {
            "cell_type": "code",
            "execution_count": null,
            "source": [],
            "outputs": [],
            "metadata": {}
        }
    ],
    "metadata": {
        "orig_nbformat": 4,
        "language_info": {
            "name": "python",
            "version": "3.6.13",
            "mimetype": "text/x-python",
            "codemirror_mode": {
                "name": "ipython",
                "version": 3
            },
            "pygments_lexer": "ipython3",
            "nbconvert_exporter": "python",
            "file_extension": ".py"
        },
        "kernelspec": {
            "name": "python3",
            "display_name": "Python 3.6.13 64-bit ('hpvm': pyenv)"
        },
        "interpreter": {
            "hash": "5bcd1cd6c9700bc958d3c9a5ea0d6cc5f88c32efd4faefe37b8bdf3d5909c3fa"
        }
    },
    "nbformat": 4,
    "nbformat_minor": 2
}