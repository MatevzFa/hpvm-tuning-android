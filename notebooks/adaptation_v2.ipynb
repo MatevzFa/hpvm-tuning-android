{
    "cells": [
        {
            "cell_type": "code",
            "execution_count": 1,
            "source": [
                "!adb exec-out run-as si.fri.matevzfa.approxhpvmdemo cat \"databases/classification-log\" > classification-log\n",
                "!adb exec-out run-as si.fri.matevzfa.approxhpvmdemo cat \"databases/classification-log-shm\" > classification-log-shm\n",
                "!adb exec-out run-as si.fri.matevzfa.approxhpvmdemo cat \"databases/classification-log-wal\" > classification-log-wal"
            ],
            "outputs": [
                {
                    "output_type": "stream",
                    "name": "stdout",
                    "text": [
                        "* daemon not running; starting now at tcp:5037\n",
                        "* daemon started successfully\n"
                    ]
                }
            ],
            "metadata": {}
        },
        {
            "cell_type": "code",
            "execution_count": 40,
            "source": [
                "import sqlite3\n",
                "import pandas as pd\n",
                "import re\n",
                "\n",
                "\n",
                "def info_mapper(key, transform):\n",
                "    def mapper(info):\n",
                "        m = re.search(f\"{key}=([^\\s]+)\", info)\n",
                "        return transform(m[1])\n",
                "    return mapper\n",
                "\n",
                "\n",
                "def fix_datetime(series):\n",
                "    return pd.to_datetime(series, infer_datetime_format=True)\n",
                "\n",
                "\n",
                "def map_timestamp_to_seconds(grp):\n",
                "    grp[\"timestamp\"] = (grp[\"timestamp\"] - grp[\"timestamp\"].min()).map(pd.Timedelta.total_seconds)\n",
                "    return grp\n",
                "\n",
                "\n",
                "def label_mapper():\n",
                "    labels = [\n",
                "        \"Walking\",\n",
                "        \"W. Upstairs\",\n",
                "        \"W. Downstairs\",\n",
                "        \"Sitting\",\n",
                "        \"Standing\",\n",
                "        \"Lying\",\n",
                "    ]\n",
                "    return lambda x: labels[x]\n",
                "\n",
                "\n",
                "con = sqlite3.connect(\"classification-log\")\n",
                "\n",
                "df = pd.read_sql_query(\"SELECT * FROM trace_classification\", con)\n",
                "\n",
                "df[\"timestamp\"] = fix_datetime(df[\"timestamp\"])\n",
                "df[\"run_start\"] = fix_datetime(df[\"run_start\"])\n",
                "df[\"trace_run_start\"] = fix_datetime(df[\"trace_run_start\"])\n",
                "\n",
                "print(df.shape)\n",
                "\n",
                "df[\"user\"] = df[\"info\"].map(info_mapper(\"user\", int))\n",
                "df[\"ground_truth\"] = df[\"info\"].map(info_mapper(\"baseline\", int))\n",
                "\n",
                "print(df.user.sort_values().unique())\n",
                "print(df.ground_truth.sort_values().unique())\n",
                "\n",
                "df = df.groupby(\"user\").apply(map_timestamp_to_seconds)\n",
                "\n",
                "selection = df[[\n",
                "    \"user\",\n",
                "    \"timestamp\",\n",
                "    \"used_config\",\n",
                "    \"argmax\",\n",
                "    \"argmax_baseline\",\n",
                "    \"ground_truth\",\n",
                "    \"used_engine\",\n",
                "]].copy()\n",
                "\n",
                "selection[\"argmax_NAME\"] = selection[\"argmax\"].map(label_mapper())\n",
                "selection[\"argmax_baseline_NAME\"] = selection[\"argmax_baseline\"].map(label_mapper())\n",
                "selection[\"ground_truth_NAME\"] = selection[\"ground_truth\"].map(label_mapper())\n",
                "\n",
                "selection.to_csv(\"adaptation_v2.csv\", index=False)\n"
            ],
            "outputs": [
                {
                    "output_type": "stream",
                    "name": "stdout",
                    "text": [
                        "(14240, 11)\n",
                        "[1 2 3 4 5 6 7 8]\n",
                        "[0 1 2 3 4 5]\n"
                    ]
                }
            ],
            "metadata": {}
        },
        {
            "cell_type": "code",
            "execution_count": null,
            "source": [],
            "outputs": [],
            "metadata": {}
        }
    ],
    "metadata": {
        "orig_nbformat": 4,
        "language_info": {
            "name": "python",
            "version": "3.6.13",
            "mimetype": "text/x-python",
            "codemirror_mode": {
                "name": "ipython",
                "version": 3
            },
            "pygments_lexer": "ipython3",
            "nbconvert_exporter": "python",
            "file_extension": ".py"
        },
        "kernelspec": {
            "name": "python3",
            "display_name": "Python 3.6.13 64-bit ('hpvm': pyenv)"
        },
        "interpreter": {
            "hash": "5bcd1cd6c9700bc958d3c9a5ea0d6cc5f88c32efd4faefe37b8bdf3d5909c3fa"
        }
    },
    "nbformat": 4,
    "nbformat_minor": 2
}