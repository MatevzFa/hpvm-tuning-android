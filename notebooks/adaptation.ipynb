{
    "cells": [
        {
            "cell_type": "code",
            "execution_count": 53,
            "source": [
                "!adb exec-out run-as si.fri.matevzfa.approxhpvmdemo cat databases/classification-log > classification-log.sqlite3"
            ],
            "outputs": [],
            "metadata": {}
        },
        {
            "cell_type": "code",
            "execution_count": 54,
            "source": [
                "import sqlite3\n",
                "import pandas as pd\n",
                "import ipywidgets as widgets\n",
                "\n",
                "con = sqlite3.connect(\"classification-log.sqlite3\")\n",
                "\n",
                "df_full = pd.read_sql_query(\"SELECT * FROM classification\", con)\n",
                "df_full[\"timestamp\"] = pd.to_datetime(df_full[\"timestamp\"], infer_datetime_format=True)\n",
                "df_full[\"run_start\"] = pd.to_datetime(df_full[\"run_start\"], infer_datetime_format=True)\n",
                "\n",
                "df_full[\"run_start\"].unique()\n",
                "\n",
                "w = widgets.Select(\n",
                "    options=df_full[\"run_start\"].unique(),\n",
                "    description=\"Select run\"\n",
                ")\n",
                "w"
            ],
            "outputs": [
                {
                    "output_type": "display_data",
                    "data": {
                        "text/plain": [
                            "Select(description='Select run', options=(Timestamp('2021-08-19 17:21:29.422000+0200', tz='pytz.FixedOffset(12…"
                        ],
                        "application/vnd.jupyter.widget-view+json": {
                            "version_major": 2,
                            "version_minor": 0,
                            "model_id": "d7e3e77896934157a9f06fa13c2d0db7"
                        }
                    },
                    "metadata": {}
                }
            ],
            "metadata": {}
        },
        {
            "cell_type": "code",
            "execution_count": 173,
            "source": [
                "import matplotlib.pyplot as plt\n",
                "import numpy as np\n",
                "\n",
                "labels = [\n",
                "    \"Walking\",\n",
                "    \"W. Upstairs\",\n",
                "    \"W. Downstairs\",\n",
                "    \"Sitting\",\n",
                "    \"Standing\",\n",
                "    \"Lying\",\n",
                "]\n",
                "\n",
                "df = df_full[df_full[\"run_start\"] == w.value].copy()\n",
                "df[\"timestamp\"] = (df[\"timestamp\"] - df[\"timestamp\"].min()) / pd.to_timedelta(1, unit='s')\n",
                "\n",
                "perrow_cca = 100\n",
                "nrows = int(np.ceil(len(df) / perrow_cca))\n",
                "\n",
                "perrow_seconds = df.timestamp.max() / nrows\n",
                "\n",
                "fig, axs = plt.subplots(nrows=nrows, figsize=(7, nrows*2.2))\n",
                "plt.subplots_adjust(hspace=0.3)\n",
                "\n",
                "plotted = 0\n",
                "\n",
                "for i, ax1 in enumerate(axs):\n",
                "\n",
                "    ts_min = i*perrow_seconds\n",
                "    ts_max = (i+1)*perrow_seconds\n",
                "\n",
                "    df_sub = df.loc[(ts_min <= df.timestamp) & (df.timestamp <= ts_max), :]\n",
                "\n",
                "    plotted += len(df_sub)\n",
                "\n",
                "    ax2 = ax1.twinx()\n",
                "\n",
                "    ln_conf = ax2.plot(df_sub.timestamp, df_sub.used_config, 'k:', label=\"Used approx. config.\")\n",
                "    ax2.set_yticks(list(range(10)))\n",
                "    ax2.set_yticklabels(list(range(10)))\n",
                "\n",
                "    wrong = df_sub[df_sub.argmax != df_sub.argmax_baseline]\n",
                "\n",
                "    for ts in wrong.timestamp:\n",
                "        ax1.axvline(ts, c='gray', ls='--', lw=1)\n",
                "\n",
                "    ax1.grid(ls=':', axis='y')\n",
                "    ln_r = ax1.plot(wrong.timestamp, wrong.argmax, 'r.', label=\"Different result to baseline\")\n",
                "    ln_g = ax1.plot(df_sub.timestamp, df_sub.argmax_baseline, 'g.', label=\"Baseline\")\n",
                "    ax1.set_yticks(list(range(len(labels))))\n",
                "    ax1.set_yticklabels(labels)\n",
                "\n",
                "    ax1.set_xlim(ts_min-1, ts_max+1)\n",
                "\n",
                "    ax1.set_ylabel(\"Activity\")\n",
                "    ax2.set_ylabel(\"Approx. config.\")\n",
                "\n",
                "lns = ln_conf + ln_r + ln_g\n",
                "axs[-1].legend(lns, [l.get_label() for l in lns],\n",
                "               loc=\"center\", bbox_to_anchor=[0.5, -0.6], ncol=3)\n",
                "\n",
                "axs[-1].set_xlabel(\"Time [s]\")\n",
                "\n",
                "fig.savefig(f\"adaptation-{str(w.value).replace(' ', '-')}.pdf\", bbox_inches='tight')\n",
                "plt.show()\n",
                "\n",
                "print(f\"missing: {plotted - len(df)}\")\n"
            ],
            "outputs": [],
            "metadata": {}
        },
        {
            "cell_type": "code",
            "execution_count": null,
            "source": [],
            "outputs": [],
            "metadata": {}
        }
    ],
    "metadata": {
        "orig_nbformat": 4,
        "language_info": {
            "name": "python",
            "version": "3.6.13",
            "mimetype": "text/x-python",
            "codemirror_mode": {
                "name": "ipython",
                "version": 3
            },
            "pygments_lexer": "ipython3",
            "nbconvert_exporter": "python",
            "file_extension": ".py"
        },
        "kernelspec": {
            "name": "python3",
            "display_name": "Python 3.6.13 64-bit ('hpvm': pyenv)"
        },
        "interpreter": {
            "hash": "5bcd1cd6c9700bc958d3c9a5ea0d6cc5f88c32efd4faefe37b8bdf3d5909c3fa"
        }
    },
    "nbformat": 4,
    "nbformat_minor": 2
}